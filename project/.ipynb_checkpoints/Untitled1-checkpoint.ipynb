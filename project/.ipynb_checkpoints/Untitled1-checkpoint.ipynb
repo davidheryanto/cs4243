{
 "metadata": {
  "name": "",
  "signature": "sha256:4bfdf217393b247bae11b443b097c5f8d831c645e10f110b3f6fd54bf6567500"
 },
 "nbformat": 3,
 "nbformat_minor": 0,
 "worksheets": [
  {
   "cells": [
    {
     "cell_type": "code",
     "collapsed": false,
     "input": [
      "import numpy as np"
     ],
     "language": "python",
     "metadata": {},
     "outputs": [],
     "prompt_number": 1
    },
    {
     "cell_type": "code",
     "collapsed": false,
     "input": [
      "p = [[1,3,4],[1,2,4]]\n",
      "\n",
      "q = []\n",
      "q.append((1,2))\n",
      "q.append((2,3))\n"
     ],
     "language": "python",
     "metadata": {},
     "outputs": [],
     "prompt_number": 6
    },
    {
     "cell_type": "code",
     "collapsed": false,
     "input": [
      "p2 = np.float32(p)\n",
      "print(p2)"
     ],
     "language": "python",
     "metadata": {},
     "outputs": [
      {
       "output_type": "stream",
       "stream": "stdout",
       "text": [
        "[[ 1.  3.  4.]\n",
        " [ 1.  2.  4.]]\n"
       ]
      }
     ],
     "prompt_number": 5
    },
    {
     "cell_type": "code",
     "collapsed": false,
     "input": [],
     "language": "python",
     "metadata": {},
     "outputs": []
    }
   ],
   "metadata": {}
  }
 ]
}