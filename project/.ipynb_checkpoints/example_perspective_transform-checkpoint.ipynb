{
 "metadata": {
  "name": "",
  "signature": "sha256:9ce1d82eea68d42da8f6a54a15b232721a62e43404eeab7c145f8b2e671042ed"
 },
 "nbformat": 3,
 "nbformat_minor": 0,
 "worksheets": [
  {
   "cells": [
    {
     "cell_type": "code",
     "collapsed": false,
     "input": [
      "import numpy as np\n",
      "import matplotlib.pyplot as plt\n",
      "import cv2\n",
      "\n",
      "import perspective_projection as projection\n",
      "\n",
      "# Open separate window for matplotlib\n",
      "%pylab qt  "
     ],
     "language": "python",
     "metadata": {},
     "outputs": [
      {
       "output_type": "stream",
       "stream": "stdout",
       "text": [
        "Populating the interactive namespace from numpy and matplotlib\n"
       ]
      }
     ],
     "prompt_number": 1
    },
    {
     "cell_type": "code",
     "collapsed": false,
     "input": [
      "def read_rgb(filepath):\n",
      "    bgr = cv2.imread(filepath)\n",
      "    b,g,r = cv2.split(bgr)\n",
      "    return cv2.merge([r,g,b])"
     ],
     "language": "python",
     "metadata": {},
     "outputs": [],
     "prompt_number": 2
    },
    {
     "cell_type": "code",
     "collapsed": false,
     "input": [
      "def on_key_release(event):\n",
      "    global surface, surfaces\n",
      "    \n",
      "    if event.key == 'ctrl+n':\n",
      "        # Add a copy of surface to surfaces\n",
      "        # NOTE: surface will be empty after deletion at the next line\n",
      "        #       that's why we add a copy of that\n",
      "        surfaces.append(list(surface)) \n",
      "        del surface[:]\n",
      "        \n",
      "    elif event.key == 'ctrl+alt+s':\n",
      "        # Add surface to surfaces and empty the surface\n",
      "        save_surfaces(surfaces, 'surfaces.dump')"
     ],
     "language": "python",
     "metadata": {},
     "outputs": [],
     "prompt_number": 3
    },
    {
     "cell_type": "code",
     "collapsed": false,
     "input": [
      "def on_mouse_release(event):\n",
      "    global surface, ax_z\n",
      "    \n",
      "    # Add coordinate where mouse is clicked in the image\n",
      "    if event.inaxes and event.inaxes is not ax_z:\n",
      "        surface.append((event.xdata, event.ydata, z))"
     ],
     "language": "python",
     "metadata": {},
     "outputs": [],
     "prompt_number": 4
    },
    {
     "cell_type": "code",
     "collapsed": false,
     "input": [
      "def update_z(val):\n",
      "    global z\n",
      "    z = int(val)"
     ],
     "language": "python",
     "metadata": {},
     "outputs": [],
     "prompt_number": 5
    },
    {
     "cell_type": "code",
     "collapsed": false,
     "input": [
      "def save_surfaces(surfaces, output_filepath):\n",
      "    import pickle\n",
      "    with open(output_filepath, 'wb') as file:\n",
      "        pickle.dump(surfaces, file)"
     ],
     "language": "python",
     "metadata": {},
     "outputs": [],
     "prompt_number": 6
    },
    {
     "cell_type": "code",
     "collapsed": false,
     "input": [
      "def load_surfaces(input_filepath):\n",
      "    import pickle\n",
      "    with open(input_filepath, 'rb') as file:\n",
      "        return pickle.load(file)"
     ],
     "language": "python",
     "metadata": {},
     "outputs": [],
     "prompt_number": 7
    },
    {
     "cell_type": "code",
     "collapsed": false,
     "input": [
      "def scatter(x1,y1,x2,y2):\n",
      "    global scatter1,scatter2\n",
      "    \n",
      "    # Remove old scatter\n",
      "    if 'scatter1' in globals() and 'scatter2' in globals():\n",
      "        scatter1.remove()\n",
      "        scatter2.remove()\n",
      "    \n",
      "    scatter1 = ax_im.scatter(x1,y1,color='blue')\n",
      "    scatter2 = ax_im.scatter(x2,y2,color='green')\n",
      "    plt.draw()"
     ],
     "language": "python",
     "metadata": {},
     "outputs": [],
     "prompt_number": 8
    },
    {
     "cell_type": "code",
     "collapsed": false,
     "input": [
      "if __name__ == '__main__':\n",
      "    surface = []\n",
      "    surfaces = []\n",
      "    \n",
      "    im = read_rgb('input/cs4243.jpg')\n",
      "    ax_im = plt.imshow(im)\n",
      "    fig = plt.figure(1)  # Get figure #1\n",
      "       \n",
      "    # Respond to keyboard event\n",
      "    fig.canvas.mpl_connect('key_release_event', on_key_release)\n",
      "    \n",
      "    # Respond to mouse click\n",
      "    fig.canvas.mpl_connect('button_release_event', on_mouse_release)\n",
      "    \n",
      "    # Add slider for z-input\n",
      "    z = 0\n",
      "    ax_z = plt.axes([0.123, 0.01, 0.78, 0.03], axisbg='lightgoldenrodyellow')\n",
      "    z_slider = Slider(ax_z, 'z-value', 1, 100, valinit=1, valfmt=u'%d')\n",
      "    z_slider.on_changed(update_z)\n",
      "    \n",
      "    # Reset current axis to image axis\n",
      "    ax_im = fig.get_axes()[0]"
     ],
     "language": "python",
     "metadata": {},
     "outputs": [],
     "prompt_number": 9
    },
    {
     "cell_type": "code",
     "collapsed": false,
     "input": [
      "surfaces = load_surfaces('surfaces.dump');surfaces"
     ],
     "language": "python",
     "metadata": {},
     "outputs": [
      {
       "metadata": {},
       "output_type": "pyout",
       "prompt_number": 10,
       "text": [
        "[[(2.7903225806451815, 1210.3387096774193, 1),\n",
        "  (1621.6290322580644, 1216.9193548387095, 1),\n",
        "  (1624.9193548387095, 917.5, 40),\n",
        "  (1003.0483870967741, 864.85483870967744, 80),\n",
        "  (552.27419354838707, 854.98387096774195, 80),\n",
        "  (2.7903225806451815, 894.4677419354839, 40)],\n",
        " [(1624.9193548387095, 901.04838709677415, 40),\n",
        "  (1615.0483870967739, 486.4677419354839, 40),\n",
        "  (1131.3709677419354, 693.75806451612902, 80),\n",
        "  (1124.7903225806451, 864.85483870967744, 80)]]"
       ]
      }
     ],
     "prompt_number": 10
    },
    {
     "cell_type": "code",
     "collapsed": false,
     "input": [
      "orientation = np.identity(3)\n",
      "translation = np.array([0,0,1])\n",
      "\n",
      "rotation = 30\n",
      "translation = projection.get_translation(translation, -rotation)\n",
      "orientation = projection.get_orientation(orientation, -rotation)"
     ],
     "language": "python",
     "metadata": {},
     "outputs": [],
     "prompt_number": 11
    },
    {
     "cell_type": "code",
     "collapsed": false,
     "input": [
      "result = []\n",
      "x1,y1,x2,y2=[],[],[],[]\n",
      "\n",
      "for pts in surfaces[0]:\n",
      "    x1.append(pts[0]); y1.append(pts[1])\n",
      "    \n",
      "    xout, yout = projection.perspective(pts, translation,orientation)\n",
      "    x2.append(float(xout)); y2.append(float(yout))"
     ],
     "language": "python",
     "metadata": {},
     "outputs": [],
     "prompt_number": 12
    },
    {
     "cell_type": "code",
     "collapsed": false,
     "input": [
      "scatter(x1,y1,x2,y2)"
     ],
     "language": "python",
     "metadata": {},
     "outputs": [],
     "prompt_number": 13
    },
    {
     "cell_type": "code",
     "collapsed": false,
     "input": [
      "x1,y1"
     ],
     "language": "python",
     "metadata": {},
     "outputs": [
      {
       "metadata": {},
       "output_type": "pyout",
       "prompt_number": 18,
       "text": [
        "([2.7903225806451815,\n",
        "  1621.6290322580644,\n",
        "  1624.9193548387095,\n",
        "  1003.0483870967741,\n",
        "  552.27419354838707,\n",
        "  2.7903225806451815],\n",
        " [1210.3387096774193,\n",
        "  1216.9193548387095,\n",
        "  917.5,\n",
        "  864.85483870967744,\n",
        "  854.98387096774195,\n",
        "  894.4677419354839])"
       ]
      }
     ],
     "prompt_number": 18
    },
    {
     "cell_type": "code",
     "collapsed": false,
     "input": [
      "x2,y2"
     ],
     "language": "python",
     "metadata": {},
     "outputs": [
      {
       "metadata": {},
       "output_type": "pyout",
       "prompt_number": 19,
       "text": [
        "([1.5799095307084023,\n",
        "  1.731720487524557,\n",
        "  1.6396011441244525,\n",
        "  1.4545368299575911,\n",
        "  1.273195569194659,\n",
        "  -0.47043563940015237],\n",
        " [687.2290789654727,\n",
        "  1.5001831189628934,\n",
        "  1.0837458638620219,\n",
        "  1.5164744824921772,\n",
        "  2.4787951693366423,\n",
        "  25.170623469643793])"
       ]
      }
     ],
     "prompt_number": 19
    },
    {
     "cell_type": "code",
     "collapsed": false,
     "input": [
      "plt = fig.get_axes()[0]"
     ],
     "language": "python",
     "metadata": {},
     "outputs": [],
     "prompt_number": 39
    },
    {
     "cell_type": "code",
     "collapsed": false,
     "input": [
      "plt.plot([100,500],[1000,500])"
     ],
     "language": "python",
     "metadata": {},
     "outputs": [
      {
       "metadata": {},
       "output_type": "pyout",
       "prompt_number": 40,
       "text": [
        "[<matplotlib.lines.Line2D at 0xc954908>]"
       ]
      }
     ],
     "prompt_number": 40
    }
   ],
   "metadata": {}
  }
 ]
}