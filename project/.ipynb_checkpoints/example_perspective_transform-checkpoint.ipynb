{
 "metadata": {
  "name": "",
  "signature": "sha256:9644362bf2add995e71b3424aa6dad8aa5ae082cd28dcf1ea672654da98679c4"
 },
 "nbformat": 3,
 "nbformat_minor": 0,
 "worksheets": [
  {
   "cells": [
    {
     "cell_type": "code",
     "collapsed": false,
     "input": [
      "import numpy as np\n",
      "import matplotlib.pyplot as plt\n",
      "import cv2\n",
      "\n",
      "import util\n",
      "import projection\n",
      "\n",
      "# Open separate window for matplotlib\n",
      "%pylab qt  "
     ],
     "language": "python",
     "metadata": {},
     "outputs": [
      {
       "output_type": "stream",
       "stream": "stdout",
       "text": [
        "Populating the interactive namespace from numpy and matplotlib\n"
       ]
      }
     ],
     "prompt_number": 6
    },
    {
     "cell_type": "code",
     "collapsed": false,
     "input": [
      "def on_key_release(event):\n",
      "    global surface, surfaces\n",
      "    \n",
      "    if event.key == 'ctrl+n':\n",
      "        # Add a copy of surface to surfaces\n",
      "        # NOTE: surface will be empty after deletion at the next line\n",
      "        #       that's why we add a copy of that\n",
      "        surfaces.append(list(surface)) \n",
      "        del surface[:]\n",
      "        \n",
      "    elif event.key == 'ctrl+alt+s':\n",
      "        # Add surface to surfaces and empty the surface\n",
      "        util.save_surfaces(surfaces, 'surfaces.dump')"
     ],
     "language": "python",
     "metadata": {},
     "outputs": [],
     "prompt_number": 7
    },
    {
     "cell_type": "code",
     "collapsed": false,
     "input": [
      "def on_mouse_release(event):\n",
      "    global surface, ax_z\n",
      "    \n",
      "    # Add coordinate where mouse is clicked in the image\n",
      "    if event.inaxes and event.inaxes is not ax_z:\n",
      "        surface.append([event.xdata, event.ydata, z])"
     ],
     "language": "python",
     "metadata": {},
     "outputs": [],
     "prompt_number": 8
    },
    {
     "cell_type": "code",
     "collapsed": false,
     "input": [
      "def on_slider_changed(val):\n",
      "    global z\n",
      "    z = int(val)"
     ],
     "language": "python",
     "metadata": {},
     "outputs": [],
     "prompt_number": 9
    },
    {
     "cell_type": "code",
     "collapsed": false,
     "input": [
      "def scatter_pair(x1,y1,x2,y2):\n",
      "    global scatter1,scatter2\n",
      "    \n",
      "    # Remove old scatter\n",
      "    if 'scatter1' in globals() and 'scatter2' in globals():\n",
      "        scatter1.remove()\n",
      "        scatter2.remove()\n",
      "    \n",
      "    scatter1 = ax_im.scatter(x1,y1,color='blue')\n",
      "    scatter2 = ax_im.scatter(x2,y2,color='green')\n",
      "    plt.draw()"
     ],
     "language": "python",
     "metadata": {},
     "outputs": [],
     "prompt_number": 10
    },
    {
     "cell_type": "code",
     "collapsed": false,
     "input": [
      "def scatter_single(x1, y1):\n",
      "    global scatter1\n",
      "    \n",
      "     # Remove old scatter\n",
      "    if 'scatter1' in globals():\n",
      "        scatter1.remove()\n",
      "    \n",
      "    scatter1 = ax_im.scatter(x1, y1, color='red')\n",
      "    plt.draw()"
     ],
     "language": "python",
     "metadata": {},
     "outputs": [],
     "prompt_number": 11
    },
    {
     "cell_type": "code",
     "collapsed": false,
     "input": [
      "if __name__ == '__main__':\n",
      "    surface = []\n",
      "    surfaces = []\n",
      "    \n",
      "    im = util.read_rgb('input/cs4243.jpg')\n",
      "    ax_im = plt.imshow(im)\n",
      "    fig = plt.figure(1)  # Get figure #1\n",
      "       \n",
      "    # Respond to keyboard event\n",
      "    fig.canvas.mpl_connect('key_release_event', on_key_release)\n",
      "    \n",
      "    # Respond to mouse click\n",
      "    fig.canvas.mpl_connect('button_release_event', on_mouse_release)\n",
      "    \n",
      "    # Add slider for z-input\n",
      "    z = 1\n",
      "    ax_z = plt.axes([0.123, 0.01, 0.78, 0.03], axisbg='lightgoldenrodyellow')\n",
      "    z_slider = Slider(ax_z, 'z-value', 1, 100, valinit=1, valfmt=u'%d')\n",
      "    z_slider.on_changed(on_slider_changed)\n",
      "    \n",
      "    # Reset current axis to image axis\n",
      "    ax_im = fig.get_axes()[0]"
     ],
     "language": "python",
     "metadata": {},
     "outputs": [],
     "prompt_number": 12
    },
    {
     "cell_type": "code",
     "collapsed": false,
     "input": [
      "surfaces_3d = np.float64(util.load_surfaces('surfaces.dump'))\n",
      "surfaces_2d = surfaces_3d[:,:,:2]\n",
      "\n",
      "b=np.copy(surfaces_3d).reshape(-1,3);\n",
      "c=np.copy(surfaces_2d).reshape(-1,2)"
     ],
     "language": "python",
     "metadata": {},
     "outputs": [],
     "prompt_number": 13
    },
    {
     "cell_type": "code",
     "collapsed": false,
     "input": [
      "focus = 50\n",
      "\n",
      "camera =  np.float64([[focus,0,0],\n",
      "                      [0,focus,0],\n",
      "                      [0,0,1]])\n",
      "dist_coef = np.float64([[1,1,1,1]])\n",
      "bool_val, rotation, translation = cv2.solvePnP(b,c,camera,dist_coef)\n",
      "projected = cv2.projectPoints(b, rotation, translation, camera,dist_coef)[0]"
     ],
     "language": "python",
     "metadata": {},
     "outputs": [],
     "prompt_number": 14
    },
    {
     "cell_type": "code",
     "collapsed": false,
     "input": [
      "x2=projected.reshape(-1,2)[:,0]\n",
      "y2=projected.reshape(-1,2)[:,1]\n",
      "x1=c[:,0]\n",
      "y1=c[:,1]\n",
      "scatter_pairs(x1,y1,x2,y2)"
     ],
     "language": "python",
     "metadata": {},
     "outputs": [],
     "prompt_number": 10
    },
    {
     "cell_type": "code",
     "collapsed": false,
     "input": [
      "translation = projection.get_translation(translation, -1)\n",
      "\n",
      "rotation_matrix = cv2.Rodrigues(rotation)[0]\n",
      "rotation_matrix = projection.get_orientation(rotation_matrix, 1)\n",
      "rotation = cv2.Rodrigues(rotation_matrix)[0]"
     ],
     "language": "python",
     "metadata": {},
     "outputs": [],
     "prompt_number": 50
    },
    {
     "cell_type": "code",
     "collapsed": false,
     "input": [
      "projected = cv2.projectPoints(b, rotation, translation, camera,dist_coef)[0]"
     ],
     "language": "python",
     "metadata": {},
     "outputs": [],
     "prompt_number": 51
    },
    {
     "cell_type": "code",
     "collapsed": false,
     "input": [
      "x2=projected.reshape(-1,2)[:,0]\n",
      "y2=projected.reshape(-1,2)[:,1]\n",
      "scatter(x2,y2)"
     ],
     "language": "python",
     "metadata": {},
     "outputs": [],
     "prompt_number": 45
    },
    {
     "cell_type": "code",
     "collapsed": false,
     "input": [
      "frames = []\n",
      "frames.append(surfaces_2d)"
     ],
     "language": "python",
     "metadata": {},
     "outputs": [],
     "prompt_number": 15
    },
    {
     "cell_type": "code",
     "collapsed": false,
     "input": [
      "def split_three(projected):\n",
      "    return np.float64([projected[:4], projected[4:8], projected[8:12]]).reshape(3,4,2)"
     ],
     "language": "python",
     "metadata": {},
     "outputs": [],
     "prompt_number": 53
    },
    {
     "cell_type": "code",
     "collapsed": false,
     "input": [
      "def interpolate_frames_with_translation(surface_3d, rotation, translation, x=0, y=0, z=0, n=24):\n",
      "    frames = []\n",
      "    for i in range(n):\n",
      "        new_translation = np.zeros(3)\n",
      "        new_translation[0] = translation[0] + float(i+1)/n*x\n",
      "        new_translation[1] = translation[1] + float(i+1)/n*y\n",
      "        new_translation[2] = translation[2] + float(i+1)/n*z\n",
      "        projected = cv2.projectPoints(surface_3d, rotation, new_translation, camera, dist_coef)[0]\n",
      "        frames.append(split_three(projected))\n",
      "    return np.float64(frames), rotation, new_translation"
     ],
     "language": "python",
     "metadata": {},
     "outputs": [],
     "prompt_number": 90
    },
    {
     "cell_type": "code",
     "collapsed": false,
     "input": [
      "def interpolate_frames_with_rotation(surface_3d, rotation, translation, deg=0, n=24):\n",
      "    frames = []\n",
      "    for i in range(n):\n",
      "        deg_step = float(i+1)/n*deg\n",
      "        \n",
      "        # Call helper function from projection module\n",
      "        new_translation = projection.get_translation(translation, -deg_step)\n",
      "        \n",
      "        # Convert rotation vector to rotation matrix\n",
      "        rotation_matrix = cv2.Rodrigues(rotation)[0]\n",
      "        rotation_matrix = projection.get_orientation(rotation_matrix, deg_step)\n",
      "        new_rotation = cv2.Rodrigues(rotation_matrix)[0]\n",
      "\n",
      "        projected = cv2.projectPoints(surface_3d, new_rotation, new_translation, camera, dist_coef)[0]\n",
      "        frames.append(split_three(projected))\n",
      "    return np.float64(frames), new_rotation, new_translation"
     ],
     "language": "python",
     "metadata": {},
     "outputs": []
    },
    {
     "cell_type": "code",
     "collapsed": false,
     "input": [
      "frames"
     ],
     "language": "python",
     "metadata": {},
     "outputs": [
      {
       "metadata": {},
       "output_type": "pyout",
       "prompt_number": 59,
       "text": [
        "[array([[[    2.14400922,   229.5875576 ],\n",
        "         [  648.45737327,   694.93317972],\n",
        "         [  643.75691244,   854.74884793],\n",
        "         [    2.14400922,   897.05299539]],\n",
        " \n",
        "        [[  641.40668203,   692.58294931],\n",
        "         [ 1087.95046083,   706.6843318 ],\n",
        "         [ 1099.7016129 ,   857.09907834],\n",
        "         [  599.10253456,   850.0483871 ]],\n",
        " \n",
        "        [[ 1064.44815668,   713.73502304],\n",
        "         [ 1628.50345622,   488.11290323],\n",
        "         [ 1623.80299539,   915.85483871],\n",
        "         [ 1055.04723502,   861.79953917]]]),\n",
        " array([[[   38.86391418,   138.49747545],\n",
        "         [  593.98469905,   635.06071742],\n",
        "         [  660.66066238,   824.04291845],\n",
        "         [  179.85975926,   964.8411887 ]],\n",
        " \n",
        "        [[  587.02906184,   631.76520862],\n",
        "         [ 1058.46577548,   726.89738103],\n",
        "         [ 1114.54297066,   879.02027402],\n",
        "         [  622.41313759,   818.51662044]],\n",
        " \n",
        "        [[ 1031.01437138,   728.11520915],\n",
        "         [ 1667.47932425,   573.49781254],\n",
        "         [ 1589.31204395,   910.0508519 ],\n",
        "         [ 1064.30293403,   875.56972585]]])]"
       ]
      }
     ],
     "prompt_number": 59
    },
    {
     "cell_type": "code",
     "collapsed": false,
     "input": [
      "split_three(projected).shape"
     ],
     "language": "python",
     "metadata": {},
     "outputs": [
      {
       "metadata": {},
       "output_type": "pyout",
       "prompt_number": 54,
       "text": [
        "(3L, 4L, 2L)"
       ]
      }
     ],
     "prompt_number": 54
    },
    {
     "cell_type": "code",
     "collapsed": false,
     "input": [
      "cv2.projectPoints(b, rotation, translation, camera,dist_coef)[0]"
     ],
     "language": "python",
     "metadata": {},
     "outputs": [
      {
       "metadata": {},
       "output_type": "pyout",
       "prompt_number": 76,
       "text": [
        "array([[[   38.86391418,   138.49747545]],\n",
        "\n",
        "       [[  593.98469905,   635.06071742]],\n",
        "\n",
        "       [[  660.66066238,   824.04291845]],\n",
        "\n",
        "       [[  179.85975926,   964.8411887 ]],\n",
        "\n",
        "       [[  587.02906184,   631.76520862]],\n",
        "\n",
        "       [[ 1058.46577548,   726.89738103]],\n",
        "\n",
        "       [[ 1114.54297066,   879.02027402]],\n",
        "\n",
        "       [[  622.41313759,   818.51662044]],\n",
        "\n",
        "       [[ 1031.01437138,   728.11520915]],\n",
        "\n",
        "       [[ 1667.47932425,   573.49781254]],\n",
        "\n",
        "       [[ 1589.31204395,   910.0508519 ]],\n",
        "\n",
        "       [[ 1064.30293403,   875.56972585]]])"
       ]
      }
     ],
     "prompt_number": 76
    },
    {
     "cell_type": "code",
     "collapsed": false,
     "input": [
      "interpolate_frames_with_translation(b, rotation, translation, x=5, y=0, z=0, n=6).shape"
     ],
     "language": "python",
     "metadata": {},
     "outputs": [
      {
       "metadata": {},
       "output_type": "pyout",
       "prompt_number": 93,
       "text": [
        "(6L, 3L, 4L, 2L)"
       ]
      }
     ],
     "prompt_number": 93
    },
    {
     "cell_type": "code",
     "collapsed": false,
     "input": [],
     "language": "python",
     "metadata": {},
     "outputs": []
    }
   ],
   "metadata": {}
  }
 ]
}