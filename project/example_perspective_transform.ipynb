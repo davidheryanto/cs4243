{
 "metadata": {
  "name": "",
  "signature": "sha256:a942f825ee3fc162aefbe13170eb84c67176f278ff31bc75893b78ca283ee3d6"
 },
 "nbformat": 3,
 "nbformat_minor": 0,
 "worksheets": [
  {
   "cells": [
    {
     "cell_type": "code",
     "collapsed": false,
     "input": [
      "import numpy as np\n",
      "import matplotlib.pyplot as plt\n",
      "import cv2\n",
      "\n",
      "# Open separate window for matplotlib\n",
      "%pylab qt  "
     ],
     "language": "python",
     "metadata": {},
     "outputs": [
      {
       "output_type": "stream",
       "stream": "stdout",
       "text": [
        "Populating the interactive namespace from numpy and matplotlib\n"
       ]
      }
     ],
     "prompt_number": 1
    },
    {
     "cell_type": "code",
     "collapsed": false,
     "input": [
      "def read_rgb(filepath):\n",
      "    bgr = cv2.imread(filepath)\n",
      "    b,g,r = cv2.split(bgr)\n",
      "    return cv2.merge([r,g,b])"
     ],
     "language": "python",
     "metadata": {},
     "outputs": [],
     "prompt_number": 2
    },
    {
     "cell_type": "code",
     "collapsed": false,
     "input": [
      "def on_key_release(event):\n",
      "    global surface, surfaces\n",
      "    \n",
      "    if event.key == 'ctrl+n':\n",
      "        # Add a copy of surface to surfaces\n",
      "        # NOTE: surface will be empty after deletion at the next line\n",
      "        #       that's why we add a copy of that\n",
      "        surfaces.append(list(surface)) \n",
      "        del surface[:]\n",
      "        \n",
      "    elif event.key == 'ctrl+alt+s':\n",
      "        # Add surface to surfaces and empty the surface\n",
      "        save_surfaces(surfaces, 'surfaces.dump')"
     ],
     "language": "python",
     "metadata": {},
     "outputs": [],
     "prompt_number": 3
    },
    {
     "cell_type": "code",
     "collapsed": false,
     "input": [
      "def on_mouse_release(event):\n",
      "    global surface, ax_z\n",
      "    \n",
      "    # Add coordinate where mouse is clicked in the image\n",
      "    if event.inaxes and event.inaxes is not ax_z:\n",
      "        surface.append((event.xdata, event.ydata, z))"
     ],
     "language": "python",
     "metadata": {},
     "outputs": [],
     "prompt_number": 4
    },
    {
     "cell_type": "code",
     "collapsed": false,
     "input": [
      "def update_z(val):\n",
      "    global z\n",
      "    z = int(val)"
     ],
     "language": "python",
     "metadata": {},
     "outputs": [],
     "prompt_number": 5
    },
    {
     "cell_type": "code",
     "collapsed": false,
     "input": [
      "def save_surfaces(surfaces, output_filepath):\n",
      "    import pickle\n",
      "    with open(output_filepath, 'wb') as file:\n",
      "        pickle.dump(surfaces, file)"
     ],
     "language": "python",
     "metadata": {},
     "outputs": [],
     "prompt_number": 6
    },
    {
     "cell_type": "code",
     "collapsed": false,
     "input": [
      "def load_surfaces(input_filepath):\n",
      "    import pickle\n",
      "    with open(input_filepath, 'rb') as file:\n",
      "        return pickle.load(file)"
     ],
     "language": "python",
     "metadata": {},
     "outputs": [],
     "prompt_number": 7
    },
    {
     "cell_type": "code",
     "collapsed": false,
     "input": [
      "if __name__ == '__main__':\n",
      "    surface = []\n",
      "    surfaces = []\n",
      "    \n",
      "    im = read_rgb('input/cs4243.jpg')\n",
      "    plt.imshow(im)\n",
      "    fig = plt.figure(1)  # Get figure #1\n",
      "       \n",
      "    # Respond to keyboard event\n",
      "    fig.canvas.mpl_connect('key_release_event', on_key_release)\n",
      "    \n",
      "    # Respond to mouse click\n",
      "    fig.canvas.mpl_connect('button_release_event', on_mouse_release)\n",
      "    \n",
      "    # Add slider for z-input\n",
      "    z = 0\n",
      "    ax_z  = plt.axes([0.12, 0.01, 0.78, 0.03], axisbg='lightgoldenrodyellow')\n",
      "    z_slider = Slider(ax_z, 'z-value', 1, 100, valinit=1, valfmt=u'%d')\n",
      "    z_slider.on_changed(update_z)"
     ],
     "language": "python",
     "metadata": {},
     "outputs": [],
     "prompt_number": 8
    },
    {
     "cell_type": "code",
     "collapsed": false,
     "input": [
      "#a = load_surfaces('surfaces.dump')\n",
      "surfaces"
     ],
     "language": "python",
     "metadata": {},
     "outputs": [
      {
       "metadata": {},
       "output_type": "pyout",
       "prompt_number": 21,
       "text": [
        "[[(2.7903225806451815, 1210.3387096774193, 1),\n",
        "  (1621.6290322580644, 1216.9193548387095, 1),\n",
        "  (1624.9193548387095, 917.5, 40),\n",
        "  (1003.0483870967741, 864.85483870967744, 80),\n",
        "  (552.27419354838707, 854.98387096774195, 80),\n",
        "  (2.7903225806451815, 894.4677419354839, 40)],\n",
        " [(1624.9193548387095, 901.04838709677415, 40),\n",
        "  (1615.0483870967739, 486.4677419354839, 40),\n",
        "  (1131.3709677419354, 693.75806451612902, 80),\n",
        "  (1124.7903225806451, 864.85483870967744, 80)]]"
       ]
      }
     ],
     "prompt_number": 21
    },
    {
     "cell_type": "code",
     "collapsed": false,
     "input": [
      "len(surfaces)"
     ],
     "language": "python",
     "metadata": {},
     "outputs": [
      {
       "metadata": {},
       "output_type": "pyout",
       "prompt_number": 22,
       "text": [
        "2"
       ]
      }
     ],
     "prompt_number": 22
    },
    {
     "cell_type": "code",
     "collapsed": false,
     "input": [],
     "language": "python",
     "metadata": {},
     "outputs": [
      {
       "metadata": {},
       "output_type": "pyout",
       "prompt_number": 25,
       "text": [
        "[[(2.7903225806451815, 1210.3387096774193, 1),\n",
        "  (1621.6290322580644, 1216.9193548387095, 1),\n",
        "  (1624.9193548387095, 917.5, 40),\n",
        "  (1003.0483870967741, 864.85483870967744, 80),\n",
        "  (552.27419354838707, 854.98387096774195, 80),\n",
        "  (2.7903225806451815, 894.4677419354839, 40)],\n",
        " [(1624.9193548387095, 901.04838709677415, 40),\n",
        "  (1615.0483870967739, 486.4677419354839, 40),\n",
        "  (1131.3709677419354, 693.75806451612902, 80),\n",
        "  (1124.7903225806451, 864.85483870967744, 80)]]"
       ]
      }
     ],
     "prompt_number": 25
    }
   ],
   "metadata": {}
  }
 ]
}