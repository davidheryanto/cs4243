{
 "metadata": {
  "name": "",
  "signature": "sha256:69535137567a4f6bb17fdd0d107447ba773dd0a2ced853aa0904177ffefbb1b8"
 },
 "nbformat": 3,
 "nbformat_minor": 0,
 "worksheets": [
  {
   "cells": [
    {
     "cell_type": "code",
     "collapsed": false,
     "input": [
      "import numpy as np\n",
      "import matplotlib.pyplot as plt\n",
      "import cv2\n",
      "\n",
      "import projection\n",
      "\n",
      "# Open separate window for matplotlib\n",
      "%pylab qt  "
     ],
     "language": "python",
     "metadata": {},
     "outputs": [
      {
       "output_type": "stream",
       "stream": "stdout",
       "text": [
        "Populating the interactive namespace from numpy and matplotlib\n"
       ]
      }
     ],
     "prompt_number": 5
    },
    {
     "cell_type": "code",
     "collapsed": false,
     "input": [
      "def read_rgb(filepath):\n",
      "    bgr = cv2.imread(filepath)\n",
      "    b,g,r = cv2.split(bgr)\n",
      "    return cv2.merge([r,g,b])"
     ],
     "language": "python",
     "metadata": {},
     "outputs": [],
     "prompt_number": 6
    },
    {
     "cell_type": "code",
     "collapsed": false,
     "input": [
      "def on_key_release(event):\n",
      "    global surface, surfaces\n",
      "    \n",
      "    if event.key == 'ctrl+n':\n",
      "        # Add a copy of surface to surfaces\n",
      "        # NOTE: surface will be empty after deletion at the next line\n",
      "        #       that's why we add a copy of that\n",
      "        surfaces.append(list(surface)) \n",
      "        del surface[:]\n",
      "        \n",
      "    elif event.key == 'ctrl+alt+s':\n",
      "        # Add surface to surfaces and empty the surface\n",
      "        save_surfaces(surfaces, 'surfaces.dump')"
     ],
     "language": "python",
     "metadata": {},
     "outputs": [],
     "prompt_number": 7
    },
    {
     "cell_type": "code",
     "collapsed": false,
     "input": [
      "def on_mouse_release(event):\n",
      "    global surface, ax_z\n",
      "    \n",
      "    # Add coordinate where mouse is clicked in the image\n",
      "    if event.inaxes and event.inaxes is not ax_z:\n",
      "        surface.append((event.xdata, event.ydata, z))"
     ],
     "language": "python",
     "metadata": {},
     "outputs": [],
     "prompt_number": 8
    },
    {
     "cell_type": "code",
     "collapsed": false,
     "input": [
      "def update_z(val):\n",
      "    global z\n",
      "    z = int(val)"
     ],
     "language": "python",
     "metadata": {},
     "outputs": [],
     "prompt_number": 9
    },
    {
     "cell_type": "code",
     "collapsed": false,
     "input": [
      "def save_surfaces(surfaces, output_filepath):\n",
      "    import pickle\n",
      "    with open(output_filepath, 'wb') as file:\n",
      "        pickle.dump(surfaces, file)"
     ],
     "language": "python",
     "metadata": {},
     "outputs": [],
     "prompt_number": 10
    },
    {
     "cell_type": "code",
     "collapsed": false,
     "input": [
      "def load_surfaces(input_filepath):\n",
      "    import pickle\n",
      "    with open(input_filepath, 'rb') as file:\n",
      "        return pickle.load(file)"
     ],
     "language": "python",
     "metadata": {},
     "outputs": [],
     "prompt_number": 11
    },
    {
     "cell_type": "code",
     "collapsed": false,
     "input": [
      "def scatter(x1,y1,x2,y2):\n",
      "    global scatter1,scatter2\n",
      "    \n",
      "    # Remove old scatter\n",
      "    if 'scatter1' in globals() and 'scatter2' in globals():\n",
      "        scatter1.remove()\n",
      "        scatter2.remove()\n",
      "    \n",
      "    scatter1 = ax_im.scatter(x1,y1,color='blue')\n",
      "    scatter2 = ax_im.scatter(x2,y2,color='green')\n",
      "    plt.draw()"
     ],
     "language": "python",
     "metadata": {},
     "outputs": [],
     "prompt_number": 12
    },
    {
     "cell_type": "code",
     "collapsed": false,
     "input": [
      "if __name__ == '__main__':\n",
      "    surface = []\n",
      "    surfaces = []\n",
      "    \n",
      "    im = read_rgb('input/cs4243.jpg')\n",
      "    ax_im = plt.imshow(im)\n",
      "    fig = plt.figure(1)  # Get figure #1\n",
      "       \n",
      "    # Respond to keyboard event\n",
      "    fig.canvas.mpl_connect('key_release_event', on_key_release)\n",
      "    \n",
      "    # Respond to mouse click\n",
      "    fig.canvas.mpl_connect('button_release_event', on_mouse_release)\n",
      "    \n",
      "    # Add slider for z-input\n",
      "    z = 0\n",
      "    ax_z = plt.axes([0.123, 0.01, 0.78, 0.03], axisbg='lightgoldenrodyellow')\n",
      "    z_slider = Slider(ax_z, 'z-value', 1, 100, valinit=1, valfmt=u'%d')\n",
      "    z_slider.on_changed(update_z)\n",
      "    \n",
      "    # Reset current axis to image axis\n",
      "    ax_im = fig.get_axes()[0]"
     ],
     "language": "python",
     "metadata": {},
     "outputs": [],
     "prompt_number": 13
    },
    {
     "cell_type": "code",
     "collapsed": false,
     "input": [
      "surfaces = load_surfaces('surfaces.dump');surfaces"
     ],
     "language": "python",
     "metadata": {},
     "outputs": [
      {
       "metadata": {},
       "output_type": "pyout",
       "prompt_number": 14,
       "text": [
        "[[(2.7903225806451815, 1210.3387096774193, 1),\n",
        "  (1621.6290322580644, 1216.9193548387095, 1),\n",
        "  (1624.9193548387095, 917.5, 40),\n",
        "  (1003.0483870967741, 864.85483870967744, 80),\n",
        "  (552.27419354838707, 854.98387096774195, 80),\n",
        "  (2.7903225806451815, 894.4677419354839, 40)],\n",
        " [(1624.9193548387095, 901.04838709677415, 40),\n",
        "  (1615.0483870967739, 486.4677419354839, 40),\n",
        "  (1131.3709677419354, 693.75806451612902, 80),\n",
        "  (1124.7903225806451, 864.85483870967744, 80)]]"
       ]
      }
     ],
     "prompt_number": 14
    },
    {
     "cell_type": "code",
     "collapsed": false,
     "input": [
      "orientation = np.array([[ 0.58874758, -0.72732825,  0.35266117],\n",
      "        [-0.75203469, -0.33291934,  0.56886602],\n",
      "        [-0.2963446 , -0.60013192, -0.74298153]])\n",
      "translation = np.array([720.64734595,2178.91209545,0])\n",
      "\n",
      "rotation = 30\n",
      "#translation = projection.get_translation(translation, -rotation)\n",
      "#orientation = projection.get_orientation(orientation, rotation)"
     ],
     "language": "python",
     "metadata": {},
     "outputs": [],
     "prompt_number": 29
    },
    {
     "cell_type": "code",
     "collapsed": false,
     "input": [
      "x1,y1,x2,y2=[],[],[],[]\n",
      "z1=[]\n",
      "\n",
      "for pts in surfaces[0]:\n",
      "    x1.append(pts[0]); y1.append(pts[1]); z1.append(pts[2])\n",
      "    \n",
      "    xout, yout = projection.perspective(pts, translation,orientation)\n",
      "    print(xout,yout)\n",
      "#     x2.append(float(xout)); y2.append(float(yout))"
     ],
     "language": "python",
     "metadata": {},
     "outputs": [
      {
       "output_type": "stream",
       "stream": "stdout",
       "text": [
        "(1.4407055513428937, 4.4054306728110753)\n",
        "(16.09761657547331, -4.6669106325218905)\n",
        "(12.908299757815454, -2.0927323814037875)\n",
        "(7.2169705195945086, 1.6979060374047146)\n",
        "(4.6021718046999283, 3.1621017895051646)\n",
        "(2.2320224025531838, 4.2044445424967263)\n"
       ]
      }
     ],
     "prompt_number": 30
    },
    {
     "cell_type": "code",
     "collapsed": false,
     "input": [
      "rotation = np.float64([[-2.10599476],\n",
      " [ 1.16920887],\n",
      " [-0.04450959]])\n",
      "translation = np.float64(\n",
      "[[  897.79573356],\n",
      " [ 2227.8058872 ],\n",
      " [ 1808.39739245]])\n",
      "focus = 40.5\n",
      "\n",
      "camera =  np.float64([[focus,0,0],\n",
      "                      [0,focus,0],\n",
      "                      [0,0,1]])\n",
      "dist_coef = np.float64([[1,1,1,1]])\n",
      "\n",
      "x1,y1,x2,y2=[],[],[],[]\n",
      "z1=[]\n",
      "\n",
      "\n",
      "x1,\n",
      "result = cv2.projectPoints(np.float64(surfaces[0]), rotation, translation, camera,dist_coef)[0]\n"
     ],
     "language": "python",
     "metadata": {},
     "outputs": [],
     "prompt_number": 34
    },
    {
     "cell_type": "code",
     "collapsed": false,
     "input": [
      "s=np.float64(surfaces[0])[:,:2]\n",
      "x1=s[:,:1]\n",
      "y1=s[:,1:2]\n",
      "x2=result"
     ],
     "language": "python",
     "metadata": {},
     "outputs": [],
     "prompt_number": 73
    },
    {
     "cell_type": "code",
     "collapsed": false,
     "input": [
      "print(result);\n",
      "x2=result[:,:1,:1]\n",
      "y2=result[:,:1,1:2]\n",
      "print(x2,y2)"
     ],
     "language": "python",
     "metadata": {},
     "outputs": [
      {
       "output_type": "stream",
       "stream": "stdout",
       "text": [
        "[[[  126.57160902  1165.89531655]]\n",
        "\n",
        " [[ 1675.96671184  1101.1551832 ]]\n",
        "\n",
        " [[ 1584.85323858  1010.89580075]]\n",
        "\n",
        " [[  693.04785838   919.8082391 ]]\n",
        "\n",
        " [[  430.27541812   923.99186078]]\n",
        "\n",
        " [[  216.95797792   955.53510988]]]\n",
        "(array([[[  126.57160902]],\n",
        "\n",
        "       [[ 1675.96671184]],\n",
        "\n",
        "       [[ 1584.85323858]],\n",
        "\n",
        "       [[  693.04785838]],\n",
        "\n",
        "       [[  430.27541812]],\n",
        "\n",
        "       [[  216.95797792]]]), array([[[ 1165.89531655]],\n",
        "\n",
        "       [[ 1101.1551832 ]],\n",
        "\n",
        "       [[ 1010.89580075]],\n",
        "\n",
        "       [[  919.8082391 ]],\n",
        "\n",
        "       [[  923.99186078]],\n",
        "\n",
        "       [[  955.53510988]]]))\n"
       ]
      }
     ],
     "prompt_number": 74
    },
    {
     "cell_type": "code",
     "collapsed": false,
     "input": [
      "reload(projection)\n",
      "scatter(x1,y1,x2,y2);"
     ],
     "language": "python",
     "metadata": {},
     "outputs": [],
     "prompt_number": 75
    },
    {
     "cell_type": "code",
     "collapsed": false,
     "input": [
      "x1,y1,z1"
     ],
     "language": "python",
     "metadata": {},
     "outputs": [
      {
       "metadata": {},
       "output_type": "pyout",
       "prompt_number": 71,
       "text": [
        "([2.7903225806451815,\n",
        "  1621.6290322580644,\n",
        "  1624.9193548387095,\n",
        "  1003.0483870967741,\n",
        "  552.27419354838707,\n",
        "  2.7903225806451815],\n",
        " [1210.3387096774193,\n",
        "  1216.9193548387095,\n",
        "  917.5,\n",
        "  864.85483870967744,\n",
        "  854.98387096774195,\n",
        "  894.4677419354839],\n",
        " [1, 1, 40, 80, 80, 40])"
       ]
      }
     ],
     "prompt_number": 71
    },
    {
     "cell_type": "code",
     "collapsed": false,
     "input": [
      "reload(projection)"
     ],
     "language": "python",
     "metadata": {},
     "outputs": [
      {
       "metadata": {},
       "output_type": "pyout",
       "prompt_number": 2,
       "text": [
        "<module 'projection' from 'projection.pyc'>"
       ]
      }
     ],
     "prompt_number": 2
    },
    {
     "cell_type": "code",
     "collapsed": false,
     "input": [
      "plt = fig.get_axes()[0]"
     ],
     "language": "python",
     "metadata": {},
     "outputs": [],
     "prompt_number": 20
    },
    {
     "cell_type": "code",
     "collapsed": false,
     "input": [
      "plt.plot([100,500],[1000,500])"
     ],
     "language": "python",
     "metadata": {},
     "outputs": [
      {
       "metadata": {},
       "output_type": "pyout",
       "prompt_number": 40,
       "text": [
        "[<matplotlib.lines.Line2D at 0xc954908>]"
       ]
      }
     ],
     "prompt_number": 40
    }
   ],
   "metadata": {}
  }
 ]
}