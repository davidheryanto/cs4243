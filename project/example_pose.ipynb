{
 "metadata": {
  "name": "",
  "signature": "sha256:dd1ca2031fe0b85b5180307c836a6ee0e601711b5ee0effc27dc4e03d87cfde7"
 },
 "nbformat": 3,
 "nbformat_minor": 0,
 "worksheets": [
  {
   "cells": [
    {
     "cell_type": "code",
     "collapsed": false,
     "input": [
      "import numpy as np\n",
      "import matplotlib.pyplot as plt\n",
      "import cv2"
     ],
     "language": "python",
     "metadata": {},
     "outputs": [],
     "prompt_number": 222
    },
    {
     "cell_type": "code",
     "collapsed": false,
     "input": [
      "pts3d = np.float64([[2.7903225806451815, 1210.3387096774193, 1],\n",
      "        [1621.629322580644, 1216.9193548387095, 1],\n",
      "        [1624.9193548387095, 917.5, 40],\n",
      "        [1003.0483870967741, 864.85483870967744, 80],\n",
      "        [552.27419354838707, 864.98387096774195, 80],\n",
      "        [2.7903225806451815, 900.4677419354839, 40]])\n",
      "pts2d = np.float64([[2.7903225806451815, 1210.3387096774193],\n",
      "       [1621.6290322580644, 1216.9193548387095],\n",
      "       [1624.9193548387095, 917.5],\n",
      "       [1003.0483870967741, 864.85483870967744],\n",
      "       [552.27419354838707, 864.98387096774195],\n",
      "       [2.7903225806451815, 900.4677419354839]])\n",
      "focus = 40.5\n",
      "\n",
      "camera =  np.float64([[focus,0,0],\n",
      "                      [0,focus,0],\n",
      "                      [0,0,1]])\n",
      "dist_coef = np.float64([[1,1,1,1]])"
     ],
     "language": "python",
     "metadata": {},
     "outputs": [],
     "prompt_number": 266
    },
    {
     "cell_type": "code",
     "collapsed": false,
     "input": [
      "bool, rotation, translation = cv2.solvePnP(pts3d,pts2d,camera,dist_coef)\n",
      "print(translation);print(rotation);"
     ],
     "language": "python",
     "metadata": {},
     "outputs": [
      {
       "output_type": "stream",
       "stream": "stdout",
       "text": [
        "[[  897.79573356]\n",
        " [ 2227.8058872 ]\n",
        " [ 1808.39739245]]\n",
        "[[-2.10599476]\n",
        " [ 1.16920887]\n",
        " [-0.04450959]]\n"
       ]
      }
     ],
     "prompt_number": 273
    },
    {
     "cell_type": "code",
     "collapsed": false,
     "input": [
      "# cv2.projectPoints(pts3d,rotation,translation,camera,dist_coef)\n",
      "cv2.projectPoints(pts3d, rotation, translation, camera,dist_coef)[0]"
     ],
     "language": "python",
     "metadata": {},
     "outputs": [
      {
       "metadata": {},
       "output_type": "pyout",
       "prompt_number": 272,
       "text": [
        "array([[[  126.57161216,  1165.89534085]],\n",
        "\n",
        "       [[ 1675.96811411,  1101.15557172]],\n",
        "\n",
        "       [[ 1584.85333408,  1010.89586425]],\n",
        "\n",
        "       [[  693.04788288,   919.8082717 ]],\n",
        "\n",
        "       [[  430.38330112,   931.44581817]],\n",
        "\n",
        "       [[  216.11926402,   960.59108701]]])"
       ]
      }
     ],
     "prompt_number": 272
    },
    {
     "cell_type": "code",
     "collapsed": false,
     "input": [
      "cv2.projectPoints(pts3d[0:2], rotation, translation, camera,dist_coef)[0]"
     ],
     "language": "python",
     "metadata": {},
     "outputs": [
      {
       "metadata": {},
       "output_type": "pyout",
       "prompt_number": 280,
       "text": [
        "array([[[  126.57161216,  1165.89534085]],\n",
        "\n",
        "       [[ 1675.96811411,  1101.15557172]]])"
       ]
      }
     ],
     "prompt_number": 280
    },
    {
     "cell_type": "code",
     "collapsed": false,
     "input": [
      "pts3d[0]"
     ],
     "language": "python",
     "metadata": {},
     "outputs": [
      {
       "metadata": {},
       "output_type": "pyout",
       "prompt_number": 278,
       "text": [
        "array([  2.79032258e+00,   1.21033871e+03,   1.00000000e+00])"
       ]
      }
     ],
     "prompt_number": 278
    },
    {
     "cell_type": "code",
     "collapsed": false,
     "input": [],
     "language": "python",
     "metadata": {},
     "outputs": []
    }
   ],
   "metadata": {}
  }
 ]
}