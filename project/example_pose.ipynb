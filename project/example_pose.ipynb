{
 "metadata": {
  "name": "",
  "signature": "sha256:e827dfbfcc1415fdbd41863df5fd7b62c815818fdcbd26d32ec1d3ef4dc52415"
 },
 "nbformat": 3,
 "nbformat_minor": 0,
 "worksheets": [
  {
   "cells": [
    {
     "cell_type": "code",
     "collapsed": false,
     "input": [
      "import numpy as np\n",
      "import matplotlib.pyplot as plt\n",
      "import cv2"
     ],
     "language": "python",
     "metadata": {},
     "outputs": [],
     "prompt_number": 222
    },
    {
     "cell_type": "code",
     "collapsed": false,
     "input": [
      "pts3d = np.float64([[2.7903225806451815, 1210.3387096774193, 1],\n",
      "        [1621.629322580644, 1216.9193548387095, 1],\n",
      "        [1624.9193548387095, 917.5, 40],\n",
      "        [1003.0483870967741, 864.85483870967744, 80],\n",
      "        [552.27419354838707, 864.98387096774195, 80],\n",
      "        [2.7903225806451815, 900.4677419354839, 40]])\n",
      "pts2d = np.float64([[2.7903225806451815, 1210.3387096774193],\n",
      "       [1621.6290322580644, 1216.9193548387095],\n",
      "       [1624.9193548387095, 917.5],\n",
      "       [1003.0483870967741, 864.85483870967744],\n",
      "       [552.27419354838707, 864.98387096774195],\n",
      "       [2.7903225806451815, 900.4677419354839]])\n",
      "focus = 40.5\n",
      "\n",
      "camera =  np.float64([[focus,0,0],\n",
      "                      [0,focus,0],\n",
      "                      [0,0,1]])\n",
      "dist_coef = np.float64([[1,1,1,1]])"
     ],
     "language": "python",
     "metadata": {},
     "outputs": [],
     "prompt_number": 266
    },
    {
     "cell_type": "code",
     "collapsed": false,
     "input": [
      "bool, rotation, translation = cv2.solvePnP(pts3d,pts2d,camera,dist_coef)\n",
      "print(translation)"
     ],
     "language": "python",
     "metadata": {},
     "outputs": [
      {
       "output_type": "stream",
       "stream": "stdout",
       "text": [
        "[[  897.79573356]\n",
        " [ 2227.8058872 ]\n",
        " [ 1808.39739245]]\n"
       ]
      }
     ],
     "prompt_number": 267
    },
    {
     "cell_type": "code",
     "collapsed": false,
     "input": [
      "# cv2.projectPoints(pts3d,rotation,translation,camera,dist_coef)\n",
      "cv2.projectPoints(pts3d, rotation, translation, camera,dist_coef)[0]"
     ],
     "language": "python",
     "metadata": {},
     "outputs": [
      {
       "metadata": {},
       "output_type": "pyout",
       "prompt_number": 268,
       "text": [
        "array([[[  126.57161216,  1165.89534085]],\n",
        "\n",
        "       [[ 1675.96811411,  1101.15557172]],\n",
        "\n",
        "       [[ 1584.85333408,  1010.89586425]],\n",
        "\n",
        "       [[  693.04788288,   919.8082717 ]],\n",
        "\n",
        "       [[  430.38330112,   931.44581817]],\n",
        "\n",
        "       [[  216.11926402,   960.59108701]]])"
       ]
      }
     ],
     "prompt_number": 268
    },
    {
     "cell_type": "code",
     "collapsed": false,
     "input": [
      "cv2.Rodrigues(rotation)"
     ],
     "language": "python",
     "metadata": {},
     "outputs": [
      {
       "metadata": {},
       "output_type": "pyout",
       "prompt_number": 269,
       "text": [
        "(array([[ 0.58874758, -0.72732825,  0.35266117],\n",
        "        [-0.75203469, -0.33291934,  0.56886602],\n",
        "        [-0.2963446 , -0.60013192, -0.74298153]]),\n",
        " array([[-0.16057111,  0.07891308,  0.43081457,  0.04593156,  0.74483772,\n",
        "          0.49662486, -0.43556717, -0.50883246,  0.58473133],\n",
        "        [-0.61330721, -0.48145077,  0.03093731, -0.46314004,  0.28893333,\n",
        "         -0.44317269, -0.0431449 ,  0.42320904, -0.32463189],\n",
        "        [ 0.02334746, -0.28329583, -0.62324644,  0.27108824,  0.01574193,\n",
        "          0.36758841, -0.64155716,  0.33460688, -0.01438295]]))"
       ]
      }
     ],
     "prompt_number": 269
    },
    {
     "cell_type": "code",
     "collapsed": false,
     "input": [
      "rotation"
     ],
     "language": "python",
     "metadata": {},
     "outputs": [
      {
       "metadata": {},
       "output_type": "pyout",
       "prompt_number": 270,
       "text": [
        "array([[-2.10599476],\n",
        "       [ 1.16920887],\n",
        "       [-0.04450959]])"
       ]
      }
     ],
     "prompt_number": 270
    }
   ],
   "metadata": {}
  }
 ]
}