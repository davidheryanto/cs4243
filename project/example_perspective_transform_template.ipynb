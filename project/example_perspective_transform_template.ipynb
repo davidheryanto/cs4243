{
 "metadata": {
  "name": "",
  "signature": "sha256:07beb4da7918aaf550ae8bd486a9359f39aed8d139228ecf4b0193b5b366973a"
 },
 "nbformat": 3,
 "nbformat_minor": 0,
 "worksheets": [
  {
   "cells": [
    {
     "cell_type": "code",
     "collapsed": false,
     "input": [
      "import numpy as np\n",
      "import matplotlib.pyplot as plt\n",
      "import cv2\n",
      "\n",
      "# Open separate window for matplotlib\n",
      "%pylab qt  "
     ],
     "language": "python",
     "metadata": {},
     "outputs": [
      {
       "output_type": "stream",
       "stream": "stdout",
       "text": [
        "Populating the interactive namespace from numpy and matplotlib\n"
       ]
      }
     ],
     "prompt_number": 2
    },
    {
     "cell_type": "code",
     "collapsed": false,
     "input": [
      "def read_rgb(filepath):\n",
      "    bgr = cv2.imread(filepath)\n",
      "    b,g,r = cv2.split(bgr)\n",
      "    return cv2.merge([r,g,b])"
     ],
     "language": "python",
     "metadata": {},
     "outputs": [],
     "prompt_number": 6
    }
   ],
   "metadata": {}
  }
 ]
}