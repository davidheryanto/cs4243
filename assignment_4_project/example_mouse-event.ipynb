{
 "metadata": {
  "name": "",
  "signature": "sha256:41c2986a5f7e11265faf701e4efd52384c84dff6dab833cd722fb68a1a1d6aac"
 },
 "nbformat": 3,
 "nbformat_minor": 0,
 "worksheets": [
  {
   "cells": [
    {
     "cell_type": "code",
     "collapsed": false,
     "input": [
      "import matplotlib.pyplot as plt\n",
      "import numpy as np\n",
      "%pylab qt"
     ],
     "language": "python",
     "metadata": {},
     "outputs": [
      {
       "output_type": "stream",
       "stream": "stdout",
       "text": [
        "Populating the interactive namespace from numpy and matplotlib\n"
       ]
      }
     ],
     "prompt_number": 3
    },
    {
     "cell_type": "code",
     "collapsed": false,
     "input": [
      "fig = plt.figure()\n",
      "ax = fig.add_subplot(111)\n",
      "ax.plot(np.random.rand(10))\n",
      "\n",
      "def onclick(event):\n",
      "    print 'button=%d, x=%d, y=%d, xdata=%f, ydata=%f'%(\n",
      "        event.button, event.x, event.y, event.xdata, event.ydata)\n",
      "\n",
      "cid = fig.canvas.mpl_connect('button_press_event', onclick)\n",
      "fig.show()"
     ],
     "language": "python",
     "metadata": {},
     "outputs": [
      {
       "output_type": "stream",
       "stream": "stdout",
       "text": [
        "\n"
       ]
      },
      {
       "output_type": "stream",
       "stream": "stdout",
       "text": [
        "button=1, x=187, y=293, xdata=1.941532, ydata=0.712971\n",
        "button=1, x=401, y=293, xdata=5.824597, ydata=0.712971"
       ]
      },
      {
       "output_type": "stream",
       "stream": "stdout",
       "text": [
        "\n",
        "button=1, x=396, y=366, xdata=5.733871, ydata=0.865690"
       ]
      },
      {
       "output_type": "stream",
       "stream": "stdout",
       "text": [
        "\n",
        "button=1, x=169, y=360, xdata=1.614919, ydata=0.853138"
       ]
      },
      {
       "output_type": "stream",
       "stream": "stdout",
       "text": [
        "\n",
        "button=1, x=186, y=213, xdata=1.923387, ydata=0.545607"
       ]
      },
      {
       "output_type": "stream",
       "stream": "stdout",
       "text": [
        "\n",
        "button=1, x=197, y=163, xdata=2.122984, ydata=0.441004"
       ]
      },
      {
       "output_type": "stream",
       "stream": "stdout",
       "text": [
        "\n",
        "button=1, x=300, y=161, xdata=3.991935, ydata=0.436820"
       ]
      },
      {
       "output_type": "stream",
       "stream": "stdout",
       "text": [
        "\n",
        "button=1, x=409, y=147, xdata=5.969758, ydata=0.407531"
       ]
      },
      {
       "output_type": "stream",
       "stream": "stdout",
       "text": [
        "\n",
        "button=1, x=301, y=99, xdata=4.010081, ydata=0.307113"
       ]
      },
      {
       "output_type": "stream",
       "stream": "stdout",
       "text": [
        "\n",
        "button=1, x=506, y=308, xdata=7.729839, ydata=0.744351"
       ]
      }
     ],
     "prompt_number": 7
    }
   ],
   "metadata": {}
  }
 ]
}