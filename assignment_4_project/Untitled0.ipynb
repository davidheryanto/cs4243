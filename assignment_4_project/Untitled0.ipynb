{
 "metadata": {
  "name": "",
  "signature": "sha256:9fbff8e0a2100533b83de221960203c389aee7742e20ecbffc02f1f975c371c8"
 },
 "nbformat": 3,
 "nbformat_minor": 0,
 "worksheets": []
}