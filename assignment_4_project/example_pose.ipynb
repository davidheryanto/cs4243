{
 "metadata": {
  "name": "",
  "signature": "sha256:3e6bd80f48577f763882256f1b8d4d90ce8a31b52911c97233f860dc334fbf4d"
 },
 "nbformat": 3,
 "nbformat_minor": 0,
 "worksheets": [
  {
   "cells": [
    {
     "cell_type": "code",
     "collapsed": false,
     "input": [
      "import numpy as np\n",
      "import matplotlib.pyplot as plt\n",
      "import cv2\n",
      "import util"
     ],
     "language": "python",
     "metadata": {},
     "outputs": [],
     "prompt_number": 1
    },
    {
     "cell_type": "code",
     "collapsed": false,
     "input": [
      "surfaces_3d = np.float64(util.load_surfaces('surfaces.dump'))\n",
      "surfaces_2d = surfaces_3d[:,:,:2]\n",
      "\n",
      "focus = 50\n",
      "\n",
      "camera =  np.float64([[focus,0,0],\n",
      "                      [0,focus,0],\n",
      "                      [0,0,1]])\n",
      "dist_coef = np.float64([[1,1,1,1]])\n",
      "# dist_coef = np.zeros(4)"
     ],
     "language": "python",
     "metadata": {},
     "outputs": [],
     "prompt_number": 155
    },
    {
     "cell_type": "code",
     "collapsed": false,
     "input": [
      "b=np.copy(surfaces_3d).reshape(-1,3);c=np.copy(surfaces_2d).reshape(-1,2)"
     ],
     "language": "python",
     "metadata": {},
     "outputs": [],
     "prompt_number": 156
    },
    {
     "cell_type": "code",
     "collapsed": false,
     "input": [
      "bool, rotation, translation = cv2.solvePnP(b,c,camera,dist_coef)\n",
      "\n",
      "print(translation);print(rotation);"
     ],
     "language": "python",
     "metadata": {},
     "outputs": [
      {
       "output_type": "stream",
       "stream": "stdout",
       "text": [
        "[[ -23.13338656]\n",
        " [-139.62890063]\n",
        " [-520.91376012]]\n",
        "[[ 0.3890698 ]\n",
        " [ 0.35120937]\n",
        " [-3.1778295 ]]\n"
       ]
      }
     ],
     "prompt_number": 157
    },
    {
     "cell_type": "code",
     "collapsed": false,
     "input": [
      "cv2.Rodrigues(rotation)[0]"
     ],
     "language": "python",
     "metadata": {},
     "outputs": [
      {
       "metadata": {},
       "output_type": "pyout",
       "prompt_number": 160,
       "text": [
        "array([[-0.96772776, -0.05173062, -0.24663114],\n",
        "       [ 0.104339  , -0.97312302, -0.20529236],\n",
        "       [-0.22938254, -0.22440037,  0.94711569]])"
       ]
      }
     ],
     "prompt_number": 160
    },
    {
     "cell_type": "code",
     "collapsed": false,
     "input": [
      "# cv2.projectPoints(pts3d,rotation,translation,camera,dist_coef)\n",
      "cv2.projectPoints(b, rotation, translation, camera,dist_coef)[0]"
     ],
     "language": "python",
     "metadata": {},
     "outputs": [
      {
       "metadata": {},
       "output_type": "pyout",
       "prompt_number": 158,
       "text": [
        "array([[[   38.86391418,   138.49747545]],\n",
        "\n",
        "       [[  593.98469905,   635.06071742]],\n",
        "\n",
        "       [[  660.66066238,   824.04291845]],\n",
        "\n",
        "       [[  179.85975926,   964.8411887 ]],\n",
        "\n",
        "       [[  587.02906184,   631.76520862]],\n",
        "\n",
        "       [[ 1058.46577548,   726.89738103]],\n",
        "\n",
        "       [[ 1114.54297066,   879.02027402]],\n",
        "\n",
        "       [[  622.41313759,   818.51662044]],\n",
        "\n",
        "       [[ 1031.01437138,   728.11520915]],\n",
        "\n",
        "       [[ 1667.47932425,   573.49781254]],\n",
        "\n",
        "       [[ 1589.31204395,   910.0508519 ]],\n",
        "\n",
        "       [[ 1064.30293403,   875.56972585]]])"
       ]
      }
     ],
     "prompt_number": 158
    },
    {
     "cell_type": "code",
     "collapsed": false,
     "input": [
      "b"
     ],
     "language": "python",
     "metadata": {},
     "outputs": [
      {
       "metadata": {},
       "output_type": "pyout",
       "prompt_number": 80,
       "text": [
        "array([[    2.14400922,   229.5875576 ,    40.        ],\n",
        "       [  648.45737327,   694.93317972,    80.        ],\n",
        "       [  643.75691244,   854.74884793,    80.        ],\n",
        "       [    2.14400922,   897.05299539,    40.        ],\n",
        "       [  641.40668203,   692.58294931,    80.        ],\n",
        "       [ 1087.95046083,   706.6843318 ,    80.        ],\n",
        "       [ 1099.7016129 ,   857.09907834,    80.        ],\n",
        "       [  599.10253456,   850.0483871 ,    80.        ],\n",
        "       [ 1064.44815668,   713.73502304,    80.        ],\n",
        "       [ 1628.50345622,   488.11290323,    40.        ],\n",
        "       [ 1623.80299539,   915.85483871,    40.        ],\n",
        "       [ 1055.04723502,   861.79953917,    80.        ]])"
       ]
      }
     ],
     "prompt_number": 80
    },
    {
     "cell_type": "code",
     "collapsed": false,
     "input": [
      "pts3d[0]"
     ],
     "language": "python",
     "metadata": {},
     "outputs": [
      {
       "metadata": {},
       "output_type": "pyout",
       "prompt_number": 278,
       "text": [
        "array([  2.79032258e+00,   1.21033871e+03,   1.00000000e+00])"
       ]
      }
     ],
     "prompt_number": 278
    },
    {
     "cell_type": "code",
     "collapsed": false,
     "input": [],
     "language": "python",
     "metadata": {},
     "outputs": []
    }
   ],
   "metadata": {}
  }
 ]
}