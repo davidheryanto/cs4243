{
 "metadata": {
  "name": "",
  "signature": "sha256:30eadad26934b3ed8e5f89207c09017701c29dc23a04e8fdb72e2a25d6607b12"
 },
 "nbformat": 3,
 "nbformat_minor": 0,
 "worksheets": [
  {
   "cells": [
    {
     "cell_type": "code",
     "collapsed": false,
     "input": [
      "import numpy as np\n",
      "import matplotlib.pyplot as plt\n",
      "import cv2\n",
      "\n",
      "# Open separate window for matplotlib\n",
      "%pylab qt  "
     ],
     "language": "python",
     "metadata": {},
     "outputs": [
      {
       "output_type": "stream",
       "stream": "stdout",
       "text": [
        "Populating the interactive namespace from numpy and matplotlib\n"
       ]
      }
     ],
     "prompt_number": 1
    },
    {
     "cell_type": "code",
     "collapsed": false,
     "input": [
      "def read_rgb(filepath):\n",
      "    bgr = cv2.imread(filepath)\n",
      "    b,g,r = cv2.split(bgr)\n",
      "    return cv2.merge([r,g,b])"
     ],
     "language": "python",
     "metadata": {},
     "outputs": [],
     "prompt_number": 2
    },
    {
     "cell_type": "code",
     "collapsed": true,
     "input": [
      "def onclick(event):\n",
      "    global ax_z\n",
      "    \n",
      "    if event.inaxes:\n",
      "        print 'inaxes'\n",
      "#     if event.inaxes is not None:\n",
      "#         ax = event.inaxes\n",
      "#         if (ax == ax_z):\n",
      "#             print 'TRUE'\n",
      "#         print(ax)"
     ],
     "language": "python",
     "metadata": {},
     "outputs": [],
     "prompt_number": 3
    },
    {
     "cell_type": "code",
     "collapsed": false,
     "input": [
      "if __name__ == '__main__':\n",
      "    plt.imshow(read_rgb('input/cs4243.jpg'))\n",
      "    ax_z  = plt.axes([0.125, 0.01, 0.78, 0.03], axisbg='lightgoldenrodyellow', label='z-axis')\n",
      "    z_slider = Slider(ax_z, 'z-value', 1, 100, valinit=1, valfmt=u'%d')\n",
      "    \n",
      "    fig = plt.figure(1)\n",
      "    cid = fig.canvas.mpl_connect('button_release_event', onclick)"
     ],
     "language": "python",
     "metadata": {},
     "outputs": [
      {
       "output_type": "stream",
       "stream": "stdout",
       "text": [
        "inaxes\n",
        "inaxes"
       ]
      },
      {
       "output_type": "stream",
       "stream": "stdout",
       "text": [
        "\n",
        "inaxes"
       ]
      },
      {
       "output_type": "stream",
       "stream": "stdout",
       "text": [
        "\n",
        "inaxes"
       ]
      },
      {
       "output_type": "stream",
       "stream": "stdout",
       "text": [
        "\n",
        "inaxes"
       ]
      },
      {
       "output_type": "stream",
       "stream": "stdout",
       "text": [
        "\n",
        "inaxes"
       ]
      },
      {
       "output_type": "stream",
       "stream": "stdout",
       "text": [
        "\n",
        "inaxes"
       ]
      }
     ],
     "prompt_number": 4
    },
    {
     "cell_type": "code",
     "collapsed": false,
     "input": [],
     "language": "python",
     "metadata": {},
     "outputs": [],
     "prompt_number": 0
    },
    {
     "cell_type": "code",
     "collapsed": false,
     "input": [],
     "language": "python",
     "metadata": {},
     "outputs": []
    }
   ],
   "metadata": {}
  }
 ]
}