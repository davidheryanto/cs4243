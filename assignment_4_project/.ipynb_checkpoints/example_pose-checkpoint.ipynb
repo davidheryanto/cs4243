{
 "metadata": {
  "name": "",
  "signature": "sha256:a8f65193276b24e7545a65f3882d7dc1cf03172d6b530bb54116f084aca3997f"
 },
 "nbformat": 3,
 "nbformat_minor": 0,
 "worksheets": [
  {
   "cells": [
    {
     "cell_type": "code",
     "collapsed": false,
     "input": [
      "import numpy as np\n",
      "import matplotlib.pyplot as plt\n",
      "import cv2\n",
      "import util"
     ],
     "language": "python",
     "metadata": {},
     "outputs": [],
     "prompt_number": 1
    },
    {
     "cell_type": "code",
     "collapsed": false,
     "input": [
      "surfaces_3d = np.float64(util.load_surfaces('surfaces.dump'))\n",
      "surfaces_2d = pts3d[:,:,:2]\n",
      "\n",
      "focus = 50\n",
      "\n",
      "camera =  np.float64([[focus,0,0],\n",
      "                      [0,focus,0],\n",
      "                      [0,0,1]])\n",
      "dist_coef = np.float64([[1,1,1,1]])\n",
      "# dist_coef = np.zeros(1,1,1,1)"
     ],
     "language": "python",
     "metadata": {},
     "outputs": [
      {
       "ename": "TypeError",
       "evalue": "function takes at most 3 arguments (4 given)",
       "output_type": "pyerr",
       "traceback": [
        "\u001b[1;31m---------------------------------------------------------------------------\u001b[0m\n\u001b[1;31mTypeError\u001b[0m                                 Traceback (most recent call last)",
        "\u001b[1;32m<ipython-input-123-28dc2912d5db>\u001b[0m in \u001b[0;36m<module>\u001b[1;34m()\u001b[0m\n\u001b[0;32m      8\u001b[0m                       [0,0,1]])\n\u001b[0;32m      9\u001b[0m \u001b[1;31m# dist_coef = np.float64([[1,1,1,1]])\u001b[0m\u001b[1;33m\u001b[0m\u001b[1;33m\u001b[0m\u001b[0m\n\u001b[1;32m---> 10\u001b[1;33m \u001b[0mdist_coef\u001b[0m \u001b[1;33m=\u001b[0m \u001b[0mnp\u001b[0m\u001b[1;33m.\u001b[0m\u001b[0mzeros\u001b[0m\u001b[1;33m(\u001b[0m\u001b[1;36m1\u001b[0m\u001b[1;33m,\u001b[0m\u001b[1;36m1\u001b[0m\u001b[1;33m,\u001b[0m\u001b[1;36m1\u001b[0m\u001b[1;33m,\u001b[0m\u001b[1;36m1\u001b[0m\u001b[1;33m)\u001b[0m\u001b[1;33m\u001b[0m\u001b[0m\n\u001b[0m",
        "\u001b[1;31mTypeError\u001b[0m: function takes at most 3 arguments (4 given)"
       ]
      }
     ],
     "prompt_number": 123
    },
    {
     "cell_type": "code",
     "collapsed": false,
     "input": [
      "b=np.copy(surfaces_3d).reshape(-1,3);c=np.copy(surfaces_2d).reshape(-1,2)"
     ],
     "language": "python",
     "metadata": {},
     "outputs": [],
     "prompt_number": 124
    },
    {
     "cell_type": "code",
     "collapsed": false,
     "input": [
      "bool, rotation, translation = cv2.solvePnP(b,c,camera,dist_coef)\n",
      "\n",
      "print(translation);print(rotation);"
     ],
     "language": "python",
     "metadata": {},
     "outputs": [
      {
       "output_type": "stream",
       "stream": "stdout",
       "text": [
        "[[  592.13391509]\n",
        " [ 1234.71646667]\n",
        " [  -85.20659817]]\n",
        "[[ 0.01392926]\n",
        " [ 0.03437613]\n",
        " [ 3.6135429 ]]\n"
       ]
      }
     ],
     "prompt_number": 125
    },
    {
     "cell_type": "code",
     "collapsed": false,
     "input": [
      "# cv2.projectPoints(pts3d,rotation,translation,camera,dist_coef)\n",
      "cv2.projectPoints(b, rotation, translation, camera,dist_coef)[0]"
     ],
     "language": "python",
     "metadata": {},
     "outputs": [
      {
       "metadata": {},
       "output_type": "pyout",
       "prompt_number": 126,
       "text": [
        "array([[[ -837.81073651, -1242.18259999]],\n",
        "\n",
        "       [[ 1217.88826963,  1187.3357603 ]],\n",
        "\n",
        "       [[ 1264.47087463,   565.7969737 ]],\n",
        "\n",
        "       [[-1629.70768468,  -711.34918972]],\n",
        "\n",
        "       [[ 1248.08632086,  1217.59012269]],\n",
        "\n",
        "       [[ -145.89575262,   297.5152813 ]],\n",
        "\n",
        "       [[    6.6475544 ,   -62.72764909]],\n",
        "\n",
        "       [[ 1434.03871377,   666.3047857 ]],\n",
        "\n",
        "       [[  -82.67359369,   311.80618478]],\n",
        "\n",
        "       [[ 1730.22556627,  -164.29965716]],\n",
        "\n",
        "       [[ 1902.57627536,  1385.04163367]],\n",
        "\n",
        "       [[  106.47976604,   -25.70124947]]])"
       ]
      }
     ],
     "prompt_number": 126
    },
    {
     "cell_type": "code",
     "collapsed": false,
     "input": [
      "b"
     ],
     "language": "python",
     "metadata": {},
     "outputs": [
      {
       "metadata": {},
       "output_type": "pyout",
       "prompt_number": 80,
       "text": [
        "array([[    2.14400922,   229.5875576 ,    40.        ],\n",
        "       [  648.45737327,   694.93317972,    80.        ],\n",
        "       [  643.75691244,   854.74884793,    80.        ],\n",
        "       [    2.14400922,   897.05299539,    40.        ],\n",
        "       [  641.40668203,   692.58294931,    80.        ],\n",
        "       [ 1087.95046083,   706.6843318 ,    80.        ],\n",
        "       [ 1099.7016129 ,   857.09907834,    80.        ],\n",
        "       [  599.10253456,   850.0483871 ,    80.        ],\n",
        "       [ 1064.44815668,   713.73502304,    80.        ],\n",
        "       [ 1628.50345622,   488.11290323,    40.        ],\n",
        "       [ 1623.80299539,   915.85483871,    40.        ],\n",
        "       [ 1055.04723502,   861.79953917,    80.        ]])"
       ]
      }
     ],
     "prompt_number": 80
    },
    {
     "cell_type": "code",
     "collapsed": false,
     "input": [
      "pts3d[0]"
     ],
     "language": "python",
     "metadata": {},
     "outputs": [
      {
       "metadata": {},
       "output_type": "pyout",
       "prompt_number": 278,
       "text": [
        "array([  2.79032258e+00,   1.21033871e+03,   1.00000000e+00])"
       ]
      }
     ],
     "prompt_number": 278
    },
    {
     "cell_type": "code",
     "collapsed": false,
     "input": [],
     "language": "python",
     "metadata": {},
     "outputs": []
    }
   ],
   "metadata": {}
  }
 ]
}